{
 "cells": [
  {
   "cell_type": "markdown",
   "id": "7825f4c4",
   "metadata": {},
   "source": [
    "# Predict Average Bunker Score"
   ]
  },
  {
   "cell_type": "markdown",
   "id": "a91da396",
   "metadata": {},
   "source": [
    "Preidcts the average score for each bunker solely based on the sentiment analysis of the text in each review."
   ]
  },
  {
   "cell_type": "markdown",
   "id": "c85078fa",
   "metadata": {},
   "source": [
    "### 1. Imports"
   ]
  },
  {
   "cell_type": "code",
   "execution_count": 2,
   "id": "f635d647",
   "metadata": {},
   "outputs": [],
   "source": [
    "import pandas as pd\n",
    "import torch\n",
    "from transformers import BertTokenizer, BertForSequenceClassification\n",
    "from tqdm import tqdm\n",
    "import seaborn as sns\n",
    "import matplotlib.pyplot as plt\n",
    "import torch\n",
    "\n",
    "device = torch.device(\"mps\" if torch.backends.mps.is_available() else \"cpu\")\n"
   ]
  },
  {
   "cell_type": "markdown",
   "id": "3c8ef026",
   "metadata": {},
   "source": [
    "### 2: File paths"
   ]
  },
  {
   "cell_type": "code",
   "execution_count": 3,
   "id": "d9ea0045",
   "metadata": {},
   "outputs": [],
   "source": [
    "data_path = \"../../data/processed/processed_bunker_sentiment.pkl\"\n",
    "model_path = \"../outputs_final/bunker_multi_class/final_model\""
   ]
  },
  {
   "cell_type": "markdown",
   "id": "bbe0631d",
   "metadata": {},
   "source": [
    "### 3: Load and filter data"
   ]
  },
  {
   "cell_type": "code",
   "execution_count": 4,
   "id": "a2f51a97",
   "metadata": {},
   "outputs": [
    {
     "name": "stdout",
     "output_type": "stream",
     "text": [
      "Filtered to 6 bunkers with >= 100 reviews\n"
     ]
    }
   ],
   "source": [
    "df = pd.read_pickle(data_path)\n",
    "bunker_counts = df[\"bunker_name\"].value_counts()\n",
    "valid_bunkers = bunker_counts[bunker_counts >= 100].index\n",
    "df = df[df[\"bunker_name\"].isin(valid_bunkers)].copy()\n",
    "print(f\"Filtered to {len(valid_bunkers)} bunkers with >= 100 reviews\")"
   ]
  },
  {
   "cell_type": "markdown",
   "id": "b54e6de8",
   "metadata": {},
   "source": [
    "### 4: Load model and tokenizer"
   ]
  },
  {
   "cell_type": "code",
   "execution_count": 5,
   "id": "928d3234",
   "metadata": {},
   "outputs": [
    {
     "name": "stdout",
     "output_type": "stream",
     "text": [
      "Using device: mps\n"
     ]
    }
   ],
   "source": [
    "tokenizer = BertTokenizer.from_pretrained(\"bert-base-uncased\")  # or \"bert-base-cased\"\n",
    "model = BertForSequenceClassification.from_pretrained(model_path)\n",
    "model.eval()\n",
    "\n",
    "# Detect device: prioritize MPS, fallback to CUDA, then CPU\n",
    "if torch.backends.mps.is_available():\n",
    "    device = torch.device(\"mps\")\n",
    "elif torch.cuda.is_available():\n",
    "    device = torch.device(\"cuda\")\n",
    "else:\n",
    "    device = torch.device(\"cpu\")\n",
    "\n",
    "model.to(device)\n",
    "print(f\"Using device: {device}\")"
   ]
  },
  {
   "cell_type": "markdown",
   "id": "248efcd9",
   "metadata": {},
   "source": [
    "### 5. Prediction function"
   ]
  },
  {
   "cell_type": "code",
   "execution_count": 6,
   "id": "eb551fb8",
   "metadata": {},
   "outputs": [],
   "source": [
    "def predict_sentiment_batch(token_batch):\n",
    "    input_ids = torch.tensor([x[\"input_ids\"] for x in token_batch]).to(device)\n",
    "    attention_mask = torch.tensor([x[\"attention_mask\"] for x in token_batch]).to(device)\n",
    "    \n",
    "    with torch.no_grad():\n",
    "        outputs = model(input_ids=input_ids, attention_mask=attention_mask)\n",
    "        probs = torch.nn.functional.softmax(outputs.logits, dim=1)\n",
    "        preds = torch.argmax(probs, dim=1)\n",
    "    \n",
    "    return preds.cpu().tolist()\n"
   ]
  },
  {
   "cell_type": "markdown",
   "id": "ece5aab5",
   "metadata": {},
   "source": [
    "### 6: Predict in batches"
   ]
  },
  {
   "cell_type": "code",
   "execution_count": 7,
   "id": "41cfcf7f",
   "metadata": {},
   "outputs": [
    {
     "name": "stderr",
     "output_type": "stream",
     "text": [
      "  0%|          | 0/435 [00:00<?, ?it/s]"
     ]
    },
    {
     "name": "stderr",
     "output_type": "stream",
     "text": [
      "100%|██████████| 435/435 [29:09<00:00,  4.02s/it]\n"
     ]
    }
   ],
   "source": [
    "batch_size = 32\n",
    "tokens = df[\"tokens\"].tolist()\n",
    "predictions = []\n",
    "\n",
    "for i in tqdm(range(0, len(tokens), batch_size)):\n",
    "    batch = tokens[i:i+batch_size]\n",
    "    preds = predict_sentiment_batch(batch)\n",
    "    predictions.extend(preds)"
   ]
  },
  {
   "cell_type": "markdown",
   "id": "e774e2e2",
   "metadata": {},
   "source": [
    "### 7. Add predictions to dataframe"
   ]
  },
  {
   "cell_type": "code",
   "execution_count": 8,
   "id": "e3d0d637",
   "metadata": {},
   "outputs": [],
   "source": [
    "df[\"predicted_label\"] = predictions\n",
    "label_to_score = {0: -1, 1: 0, 2: 1}\n",
    "df[\"sentiment_score\"] = df[\"predicted_label\"].map(label_to_score)"
   ]
  },
  {
   "cell_type": "markdown",
   "id": "13f5eb77",
   "metadata": {},
   "source": [
    "### 8. Aggregate scores per bunker"
   ]
  },
  {
   "cell_type": "code",
   "execution_count": 9,
   "id": "9f731207",
   "metadata": {},
   "outputs": [
    {
     "data": {
      "application/vnd.microsoft.datawrangler.viewer.v0+json": {
       "columns": [
        {
         "name": "index",
         "rawType": "int64",
         "type": "integer"
        },
        {
         "name": "bunker_name",
         "rawType": "object",
         "type": "string"
        },
        {
         "name": "sentiment_score",
         "rawType": "float64",
         "type": "float"
        }
       ],
       "conversionMethod": "pd.DataFrame",
       "ref": "fffed55e-2a67-455a-9fee-e873b91c87a1",
       "rows": [
        [
         "0",
         "betasom",
         "0.7986270022883295"
        ],
        [
         "3",
         "larochelle_museum",
         "0.7568542568542569"
        ],
        [
         "1",
         "hamburg",
         "0.7449022055763629"
        ],
        [
         "2",
         "keromann",
         "0.7359597652975691"
        ],
        [
         "5",
         "valentine",
         "0.7281780902167545"
        ]
       ],
       "shape": {
        "columns": 2,
        "rows": 5
       }
      },
      "text/html": [
       "<div>\n",
       "<style scoped>\n",
       "    .dataframe tbody tr th:only-of-type {\n",
       "        vertical-align: middle;\n",
       "    }\n",
       "\n",
       "    .dataframe tbody tr th {\n",
       "        vertical-align: top;\n",
       "    }\n",
       "\n",
       "    .dataframe thead th {\n",
       "        text-align: right;\n",
       "    }\n",
       "</style>\n",
       "<table border=\"1\" class=\"dataframe\">\n",
       "  <thead>\n",
       "    <tr style=\"text-align: right;\">\n",
       "      <th></th>\n",
       "      <th>bunker_name</th>\n",
       "      <th>sentiment_score</th>\n",
       "    </tr>\n",
       "  </thead>\n",
       "  <tbody>\n",
       "    <tr>\n",
       "      <th>0</th>\n",
       "      <td>betasom</td>\n",
       "      <td>0.798627</td>\n",
       "    </tr>\n",
       "    <tr>\n",
       "      <th>3</th>\n",
       "      <td>larochelle_museum</td>\n",
       "      <td>0.756854</td>\n",
       "    </tr>\n",
       "    <tr>\n",
       "      <th>1</th>\n",
       "      <td>hamburg</td>\n",
       "      <td>0.744902</td>\n",
       "    </tr>\n",
       "    <tr>\n",
       "      <th>2</th>\n",
       "      <td>keromann</td>\n",
       "      <td>0.735960</td>\n",
       "    </tr>\n",
       "    <tr>\n",
       "      <th>5</th>\n",
       "      <td>valentine</td>\n",
       "      <td>0.728178</td>\n",
       "    </tr>\n",
       "  </tbody>\n",
       "</table>\n",
       "</div>"
      ],
      "text/plain": [
       "         bunker_name  sentiment_score\n",
       "0            betasom         0.798627\n",
       "3  larochelle_museum         0.756854\n",
       "1            hamburg         0.744902\n",
       "2           keromann         0.735960\n",
       "5          valentine         0.728178"
      ]
     },
     "execution_count": 9,
     "metadata": {},
     "output_type": "execute_result"
    }
   ],
   "source": [
    "bunker_scores = df.groupby(\"bunker_name\")[\"sentiment_score\"].mean().reset_index()\n",
    "bunker_scores = bunker_scores.sort_values(by=\"sentiment_score\", ascending=False)\n",
    "bunker_scores.head()"
   ]
  },
  {
   "cell_type": "markdown",
   "id": "6468b9e2",
   "metadata": {},
   "source": [
    "### 9: Save results"
   ]
  },
  {
   "cell_type": "code",
   "execution_count": 10,
   "id": "66bd8327",
   "metadata": {},
   "outputs": [
    {
     "name": "stdout",
     "output_type": "stream",
     "text": [
      "Saved bunker sentiment ranking to: ../../data/processed/bunker_sentiment_ranking.csv\n"
     ]
    }
   ],
   "source": [
    "output_path = \"../../data/processed/bunker_sentiment_ranking.csv\"\n",
    "bunker_scores.to_csv(output_path, index=False)\n",
    "print(f\"Saved bunker sentiment ranking to: {output_path}\")"
   ]
  },
  {
   "cell_type": "markdown",
   "id": "483ff7a3",
   "metadata": {},
   "source": [
    "### 10. Distribution of Average Sentiment Scores Across Bunkers"
   ]
  },
  {
   "cell_type": "code",
   "execution_count": 33,
   "id": "f9cbb83b",
   "metadata": {},
   "outputs": [
    {
     "name": "stderr",
     "output_type": "stream",
     "text": [
      "/var/folders/g6/rpqlqh_142q2yhdtrkhh5jnh0000gn/T/ipykernel_62745/1071785172.py:15: FutureWarning: \n",
      "\n",
      "Passing `palette` without assigning `hue` is deprecated and will be removed in v0.14.0. Assign the `x` variable to `hue` and set `legend=False` for the same effect.\n",
      "\n",
      "  ax = sns.barplot(data=merged, x=\"bunker_name_formatted\", y=\"sentiment_score\", palette=\"coolwarm\")\n",
      "/var/folders/g6/rpqlqh_142q2yhdtrkhh5jnh0000gn/T/ipykernel_62745/1071785172.py:52: UserWarning: set_ticklabels() should only be used with a fixed number of ticks, i.e. after set_ticks() or using a FixedLocator.\n",
      "  ax.set_xticklabels(ax.get_xticklabels(), fontweight='bold')\n",
      "/var/folders/g6/rpqlqh_142q2yhdtrkhh5jnh0000gn/T/ipykernel_62745/1071785172.py:54: UserWarning: set_ticklabels() should only be used with a fixed number of ticks, i.e. after set_ticks() or using a FixedLocator.\n",
      "  ax.set_yticklabels([f\"{y:.1f}\" for y in ax.get_yticks()], fontweight='bold')\n"
     ]
    },
    {
     "data": {
      "image/png": "[encoded data removed]",
      "text/plain": [
       "<Figure size 1400x600 with 1 Axes>"
      ]
     },
     "metadata": {},
     "output_type": "display_data"
    }
   ],
   "source": [
    "# Set ymin to 0 since all scores are positive\n",
    "ymin = 0\n",
    "ymax = max(merged[\"sentiment_score\"].max(), merged[\"normalized_stars\"].max()) + 0.1\n",
    "\n",
    "# Format bunker names\n",
    "merged[\"bunker_name_formatted\"] = merged[\"bunker_name\"].str.replace('_', ' ').str.title()\n",
    "\n",
    "# Manual corrections\n",
    "merged[\"bunker_name_formatted\"] = merged[\"bunker_name_formatted\"].replace({\n",
    "    \"Stnazire\": \"St. Nazaire\"\n",
    "})\n",
    "\n",
    "# Plot\n",
    "plt.figure(figsize=(14, 6))\n",
    "ax = sns.barplot(data=merged, x=\"bunker_name_formatted\", y=\"sentiment_score\", palette=\"coolwarm\")\n",
    "\n",
    "# Better yellow line\n",
    "line_color = \"#FFB300\"\n",
    "x_positions = ax.get_xticks()\n",
    "ax.plot(x_positions, merged[\"normalized_stars\"], color=line_color, marker=\"o\", linestyle='-', label=\"Normalized Avg. Stars\")\n",
    "\n",
    "# Line labels\n",
    "import matplotlib.patheffects as path_effects\n",
    "\n",
    "for x, y in zip(x_positions, merged[\"normalized_stars\"]):\n",
    "    offset = 0.03 if y < 0.69 else 0.05  # Less vertical spacing if score is below 0.69\n",
    "    txt = ax.text(\n",
    "        x, y + offset, f\"{y:.2f}\",\n",
    "        ha='center', va='bottom',\n",
    "        fontsize=10, fontweight='bold',\n",
    "        color=line_color\n",
    "    )\n",
    "    txt.set_path_effects([\n",
    "        path_effects.Stroke(linewidth=1.5, foreground='black'),\n",
    "        path_effects.Normal()\n",
    "    ])\n",
    "\n",
    "\n",
    "\n",
    "# Bar value labels\n",
    "for container in ax.containers:\n",
    "    ax.bar_label(container, fmt='%.2f', label_type='edge', fontsize=10, padding=2, fontweight='bold')\n",
    "\n",
    "# Styling\n",
    "plt.title(\"Average Sentiment Score and Normalized Star Rating per Bunker\", fontsize=14, fontweight='bold')\n",
    "ax.set_ylabel(\"Score (−1 to 1)\", fontsize=12, fontweight='bold')  \n",
    "ax.set_xlabel(\"Bunker Name\", fontsize=12, fontweight='bold')\n",
    "ax.set_ylim(ymin, ymax)\n",
    "\n",
    "# Bold tick labels\n",
    "ax.tick_params(axis='x', labelrotation=45, labelsize=10)\n",
    "ax.set_xticklabels(ax.get_xticklabels(), fontweight='bold')\n",
    "ax.tick_params(axis='y', labelsize=10)\n",
    "ax.set_yticklabels([f\"{y:.1f}\" for y in ax.get_yticks()], fontweight='bold')\n",
    "\n",
    "# Legend\n",
    "ax.legend(loc=\"upper right\", fontsize=10)\n",
    "\n",
    "plt.tight_layout()\n",
    "plt.show()\n"
   ]
  },
  {
   "cell_type": "code",
   "execution_count": null,
   "id": "71a09064",
   "metadata": {},
   "outputs": [],
   "source": []
  },
  {
   "cell_type": "code",
   "execution_count": 12,
   "id": "56436748-7410-4745-993b-00115f290a59",
   "metadata": {},
   "outputs": [
    {
     "ename": "ModuleNotFoundError",
     "evalue": "No module named 'spacy'",
     "output_type": "error",
     "traceback": [
      "\u001b[31m---------------------------------------------------------------------------\u001b[39m",
      "\u001b[31mModuleNotFoundError\u001b[39m                       Traceback (most recent call last)",
      "\u001b[36mCell\u001b[39m\u001b[36m \u001b[39m\u001b[32mIn[12]\u001b[39m\u001b[32m, line 2\u001b[39m\n\u001b[32m      1\u001b[39m \u001b[38;5;28;01mimport\u001b[39;00m\u001b[38;5;250m \u001b[39m\u001b[34;01mpandas\u001b[39;00m\u001b[38;5;250m \u001b[39m\u001b[38;5;28;01mas\u001b[39;00m\u001b[38;5;250m \u001b[39m\u001b[34;01mpd\u001b[39;00m\n\u001b[32m----> \u001b[39m\u001b[32m2\u001b[39m \u001b[38;5;28;01mimport\u001b[39;00m\u001b[38;5;250m \u001b[39m\u001b[34;01mspacy\u001b[39;00m\n\u001b[32m      3\u001b[39m \u001b[38;5;28;01mfrom\u001b[39;00m\u001b[38;5;250m \u001b[39m\u001b[34;01mcollections\u001b[39;00m\u001b[38;5;250m \u001b[39m\u001b[38;5;28;01mimport\u001b[39;00m Counter\n\u001b[32m      4\u001b[39m \u001b[38;5;28;01mimport\u001b[39;00m\u001b[38;5;250m \u001b[39m\u001b[34;01mmatplotlib\u001b[39;00m\u001b[34;01m.\u001b[39;00m\u001b[34;01mpyplot\u001b[39;00m\u001b[38;5;250m \u001b[39m\u001b[38;5;28;01mas\u001b[39;00m\u001b[38;5;250m \u001b[39m\u001b[34;01mplt\u001b[39;00m\n",
      "\u001b[31mModuleNotFoundError\u001b[39m: No module named 'spacy'"
     ]
    }
   ],
   "source": [
    "import pandas as pd\n",
    "import spacy\n",
    "from collections import Counter\n",
    "import matplotlib.pyplot as plt\n",
    "import seaborn as sns\n",
    "\n",
    "# Load your data\n",
    "df = pd.read_pickle(\"path/to/processed_bunker_sentiment.pkl\")\n",
    "\n",
    "# Choose one bunker and filter negative reviews\n",
    "example_bunker = \"Some Bunker Name\"  # Replace with actual bunker name\n",
    "bunker_df = df[(df[\"bunker_name\"] == example_bunker) & (df[\"predicted_label\"] == 0)].copy()\n",
    "\n",
    "# Sample to reduce memory usage\n",
    "sample_texts = bunker_df[\"clean_text\"].dropna().sample(n=100, random_state=42).tolist()\n",
    "\n",
    "# Load spaCy\n",
    "import en_core_web_sm\n",
    "nlp = en_core_web_sm.load()\n",
    "\n",
    "# Extract noun phrases\n",
    "phrases = []\n",
    "for doc in nlp.pipe(sample_texts, disable=[\"ner\", \"parser\"]):\n",
    "    phrases.extend([chunk.text.lower().strip() for chunk in doc.noun_chunks])\n",
    "\n",
    "# Count and plot top complaint phrases\n",
    "phrase_counts = Counter(phrases).most_common(15)\n",
    "common_df = pd.DataFrame(phrase_counts, columns=[\"phrase\", \"count\"])\n",
    "\n",
    "plt.figure(figsize=(10, 6))\n",
    "sns.barplot(data=common_df, y=\"phrase\", x=\"count\", palette=\"Reds_d\")\n",
    "plt.title(f\"Top Complaint Phrases in Negative Reviews for '{example_bunker}'\")\n",
    "plt.xlabel(\"Frequency\")\n",
    "plt.ylabel(\"Phrase\")\n",
    "plt.tight_layout()\n",
    "plt.show()\n"
   ]
  },
  {
   "cell_type": "code",
   "execution_count": null,
   "id": "93cea847-5a1f-42dd-95ae-dcdd2da3ebda",
   "metadata": {},
   "outputs": [],
   "source": []
  }
 ],
 "metadata": {
  "kernelspec": {
   "display_name": "Python 3",
   "language": "python",
   "name": "python3"
  },
  "language_info": {
   "codemirror_mode": {
    "name": "ipython",
    "version": 3
   },
   "file_extension": ".py",
   "mimetype": "text/x-python",
   "name": "python",
   "nbconvert_exporter": "python",
   "pygments_lexer": "ipython3",
   "version": "3.13.2"
  }
 },
 "nbformat": 4,
 "nbformat_minor": 5
}
