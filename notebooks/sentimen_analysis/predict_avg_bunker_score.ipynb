{
 "cells": [
  {
   "cell_type": "markdown",
   "id": "7825f4c4",
   "metadata": {},
   "source": [
    "# Predict Average Bunker Score"
   ]
  },
  {
   "cell_type": "markdown",
   "id": "a91da396",
   "metadata": {},
   "source": [
    "Preidcts the average score for each bunker solely based on the sentiment analysis of the text in each review."
   ]
  },
  {
   "cell_type": "markdown",
   "id": "c85078fa",
   "metadata": {},
   "source": [
    "### 1. Imports"
   ]
  },
  {
   "cell_type": "code",
   "execution_count": null,
   "id": "f635d647",
   "metadata": {},
   "outputs": [],
   "source": [
    "import pandas as pd\n",
    "import torch\n",
    "from transformers import BertTokenizer, BertForSequenceClassification\n",
    "from tqdm import tqdm\n",
    "import seaborn as sns\n",
    "import matplotlib.pyplot as plt\n"
   ]
  },
  {
   "cell_type": "markdown",
   "id": "3c8ef026",
   "metadata": {},
   "source": [
    "### 2: File paths"
   ]
  },
  {
   "cell_type": "code",
   "execution_count": null,
   "id": "d9ea0045",
   "metadata": {},
   "outputs": [],
   "source": [
    "data_path = \"data/processed/processed_bunker_sentiment.pkl\"\n",
    "model_path = \"notebooks/outputs_final/bunker_multi_class/final_model\""
   ]
  },
  {
   "cell_type": "markdown",
   "id": "bbe0631d",
   "metadata": {},
   "source": [
    "### 3: Load and filter data"
   ]
  },
  {
   "cell_type": "code",
   "execution_count": null,
   "id": "a2f51a97",
   "metadata": {},
   "outputs": [],
   "source": [
    "df = pd.read_pickle(data_path)\n",
    "bunker_counts = df[\"bunker_name\"].value_counts()\n",
    "valid_bunkers = bunker_counts[bunker_counts >= 100].index\n",
    "df = df[df[\"bunker_name\"].isin(valid_bunkers)].copy()\n",
    "print(f\"Filtered to {len(valid_bunkers)} bunkers with >= 100 reviews\")"
   ]
  },
  {
   "cell_type": "markdown",
   "id": "b54e6de8",
   "metadata": {},
   "source": [
    "### 4: Load model and tokenizer"
   ]
  },
  {
   "cell_type": "code",
   "execution_count": null,
   "id": "928d3234",
   "metadata": {},
   "outputs": [],
   "source": [
    "tokenizer = BertTokenizer.from_pretrained(model_path)\n",
    "model = BertForSequenceClassification.from_pretrained(model_path)\n",
    "model.eval()\n",
    "\n",
    "device = torch.device(\"cuda\" if torch.cuda.is_available() else \"cpu\")\n",
    "model.to(device)\n",
    "print(f\"Using device: {device}\")"
   ]
  },
  {
   "cell_type": "markdown",
   "id": "248efcd9",
   "metadata": {},
   "source": [
    "### 5. Prediction function"
   ]
  },
  {
   "cell_type": "code",
   "execution_count": null,
   "id": "eb551fb8",
   "metadata": {},
   "outputs": [],
   "source": [
    "def predict_sentiment_batch(token_batch):\n",
    "    input_ids = torch.tensor([x[\"input_ids\"] for x in token_batch]).to(device)\n",
    "    attention_mask = torch.tensor([x[\"attention_mask\"] for x in token_batch]).to(device)\n",
    "    with torch.no_grad():\n",
    "        outputs = model(input_ids=input_ids, attention_mask=attention_mask)\n",
    "        probs = torch.nn.functional.softmax(outputs.logits, dim=1)\n",
    "        preds = torch.argmax(probs, dim=1)\n",
    "    return preds.cpu().tolist()"
   ]
  },
  {
   "cell_type": "markdown",
   "id": "ece5aab5",
   "metadata": {},
   "source": [
    "### 6: Predict in batches"
   ]
  },
  {
   "cell_type": "code",
   "execution_count": null,
   "id": "41cfcf7f",
   "metadata": {},
   "outputs": [],
   "source": [
    "batch_size = 32\n",
    "tokens = df[\"tokens\"].tolist()\n",
    "predictions = []\n",
    "\n",
    "for i in tqdm(range(0, len(tokens), batch_size)):\n",
    "    batch = tokens[i:i+batch_size]\n",
    "    preds = predict_sentiment_batch(batch)\n",
    "    predictions.extend(preds)"
   ]
  },
  {
   "cell_type": "markdown",
   "id": "e774e2e2",
   "metadata": {},
   "source": [
    "### 7. Add predictions to dataframe"
   ]
  },
  {
   "cell_type": "code",
   "execution_count": null,
   "id": "e3d0d637",
   "metadata": {},
   "outputs": [],
   "source": [
    "df[\"predicted_label\"] = predictions\n",
    "label_to_score = {0: -1, 1: 0, 2: 1}\n",
    "df[\"sentiment_score\"] = df[\"predicted_label\"].map(label_to_score)"
   ]
  },
  {
   "cell_type": "markdown",
   "id": "13f5eb77",
   "metadata": {},
   "source": [
    "### 8. Aggregate scores per bunker"
   ]
  },
  {
   "cell_type": "code",
   "execution_count": null,
   "id": "9f731207",
   "metadata": {},
   "outputs": [],
   "source": [
    "bunker_scores = df.groupby(\"bunker_name\")[\"sentiment_score\"].mean().reset_index()\n",
    "bunker_scores = bunker_scores.sort_values(by=\"sentiment_score\", ascending=False)\n",
    "bunker_scores.head()"
   ]
  },
  {
   "cell_type": "markdown",
   "id": "6468b9e2",
   "metadata": {},
   "source": [
    "### 9: Save results"
   ]
  },
  {
   "cell_type": "code",
   "execution_count": null,
   "id": "66bd8327",
   "metadata": {},
   "outputs": [],
   "source": [
    "output_path = \"data/processed/bunker_sentiment_ranking.csv\"\n",
    "bunker_scores.to_csv(output_path, index=False)\n",
    "print(f\"Saved bunker sentiment ranking to: {output_path}\")"
   ]
  },
  {
   "cell_type": "markdown",
   "id": "483ff7a3",
   "metadata": {},
   "source": [
    "### 10. Distribution of Average Sentiment Scores Across Bunkers"
   ]
  },
  {
   "cell_type": "code",
   "execution_count": null,
   "id": "f9cbb83b",
   "metadata": {},
   "outputs": [],
   "source": [
    "plt.figure(figsize=(10, 5))\n",
    "sns.histplot(bunker_scores[\"sentiment_score\"], bins=20, kde=True, color=\"steelblue\")\n",
    "plt.title(\"Distribution of Average Sentiment Scores Across Bunkers\")\n",
    "plt.xlabel(\"Average Sentiment Score\")\n",
    "plt.ylabel(\"Number of Bunkers\")\n",
    "plt.tight_layout()\n",
    "plt.show()"
   ]
  }
 ],
 "metadata": {
  "kernelspec": {
   "display_name": "Python 3",
   "language": "python",
   "name": "python3"
  },
  "language_info": {
   "name": "python",
   "version": "3.13.2"
  }
 },
 "nbformat": 4,
 "nbformat_minor": 5
}
