{
 "cells": [
  {
   "cell_type": "markdown",
   "metadata": {},
   "source": [
    "# Sentiment Classification Model 6"
   ]
  },
  {
   "cell_type": "markdown",
   "metadata": {},
   "source": [
    " Trained on IMDB dataset, predicts on WW2 Bunker Reviews"
   ]
  },
  {
   "cell_type": "markdown",
   "metadata": {},
   "source": [
    "### 1. Import Dependencies"
   ]
  },
  {
   "cell_type": "code",
   "execution_count": 1,
   "metadata": {},
   "outputs": [],
   "source": [
    "import pandas as pd\n",
    "import torch\n",
    "import torch.nn.functional as F\n",
    "import matplotlib.pyplot as plt\n",
    "import numpy as np\n",
    "import seaborn as sns\n",
    "from transformers import (\n",
    "    BertTokenizer, \n",
    "    BertForSequenceClassification, \n",
    "    Trainer, \n",
    "    TrainingArguments\n",
    ")\n",
    "from sklearn.model_selection import train_test_split\n",
    "from sklearn.metrics import accuracy_score, confusion_matrix, classification_report, precision_recall_fscore_support, f1_score\n",
    "\n",
    "from sklearn.utils.class_weight import compute_class_weight\n",
    "from torch.nn import CrossEntropyLoss\n",
    "\n",
    "\n",
    "\n"
   ]
  },
  {
   "cell_type": "markdown",
   "metadata": {},
   "source": [
    "### 2. Load Data"
   ]
  },
  {
   "cell_type": "code",
   "execution_count": 2,
   "metadata": {},
   "outputs": [
    {
     "data": {
      "text/html": [
       "<div>\n",
       "<style scoped>\n",
       "    .dataframe tbody tr th:only-of-type {\n",
       "        vertical-align: middle;\n",
       "    }\n",
       "\n",
       "    .dataframe tbody tr th {\n",
       "        vertical-align: top;\n",
       "    }\n",
       "\n",
       "    .dataframe thead th {\n",
       "        text-align: right;\n",
       "    }\n",
       "</style>\n",
       "<table border=\"1\" class=\"dataframe\">\n",
       "  <thead>\n",
       "    <tr style=\"text-align: right;\">\n",
       "      <th></th>\n",
       "      <th>review</th>\n",
       "      <th>sentiment</th>\n",
       "      <th>clean_text</th>\n",
       "      <th>tokens</th>\n",
       "    </tr>\n",
       "  </thead>\n",
       "  <tbody>\n",
       "    <tr>\n",
       "      <th>0</th>\n",
       "      <td>One of the other reviewers has mentioned that ...</td>\n",
       "      <td>1</td>\n",
       "      <td>One of the other reviewers has mentioned that ...</td>\n",
       "      <td>{'input_ids': [101, 2028, 1997, 1996, 2060, 15...</td>\n",
       "    </tr>\n",
       "    <tr>\n",
       "      <th>1</th>\n",
       "      <td>A wonderful little production. &lt;br /&gt;&lt;br /&gt;The...</td>\n",
       "      <td>1</td>\n",
       "      <td>A wonderful little production. The filming tec...</td>\n",
       "      <td>{'input_ids': [101, 1037, 6919, 2210, 2537, 10...</td>\n",
       "    </tr>\n",
       "    <tr>\n",
       "      <th>2</th>\n",
       "      <td>I thought this was a wonderful way to spend ti...</td>\n",
       "      <td>1</td>\n",
       "      <td>I thought this was a wonderful way to spend ti...</td>\n",
       "      <td>{'input_ids': [101, 1045, 2245, 2023, 2001, 10...</td>\n",
       "    </tr>\n",
       "    <tr>\n",
       "      <th>3</th>\n",
       "      <td>Basically there's a family where a little boy ...</td>\n",
       "      <td>0</td>\n",
       "      <td>Basically there's a family where a little boy ...</td>\n",
       "      <td>{'input_ids': [101, 10468, 2045, 1005, 1055, 1...</td>\n",
       "    </tr>\n",
       "    <tr>\n",
       "      <th>4</th>\n",
       "      <td>Petter Mattei's \"Love in the Time of Money\" is...</td>\n",
       "      <td>1</td>\n",
       "      <td>Petter Mattei's Love in the Time of Money is a...</td>\n",
       "      <td>{'input_ids': [101, 9004, 3334, 4717, 7416, 10...</td>\n",
       "    </tr>\n",
       "  </tbody>\n",
       "</table>\n",
       "</div>"
      ],
      "text/plain": [
       "                                              review  sentiment  \\\n",
       "0  One of the other reviewers has mentioned that ...          1   \n",
       "1  A wonderful little production. <br /><br />The...          1   \n",
       "2  I thought this was a wonderful way to spend ti...          1   \n",
       "3  Basically there's a family where a little boy ...          0   \n",
       "4  Petter Mattei's \"Love in the Time of Money\" is...          1   \n",
       "\n",
       "                                          clean_text  \\\n",
       "0  One of the other reviewers has mentioned that ...   \n",
       "1  A wonderful little production. The filming tec...   \n",
       "2  I thought this was a wonderful way to spend ti...   \n",
       "3  Basically there's a family where a little boy ...   \n",
       "4  Petter Mattei's Love in the Time of Money is a...   \n",
       "\n",
       "                                              tokens  \n",
       "0  {'input_ids': [101, 2028, 1997, 1996, 2060, 15...  \n",
       "1  {'input_ids': [101, 1037, 6919, 2210, 2537, 10...  \n",
       "2  {'input_ids': [101, 1045, 2245, 2023, 2001, 10...  \n",
       "3  {'input_ids': [101, 10468, 2045, 1005, 1055, 1...  \n",
       "4  {'input_ids': [101, 9004, 3334, 4717, 7416, 10...  "
      ]
     },
     "execution_count": 2,
     "metadata": {},
     "output_type": "execute_result"
    }
   ],
   "source": [
    "df = pd.read_pickle(\"../data/processed/processed_movie_reviews.pkl\")\n",
    "df.head()"
   ]
  },
  {
   "cell_type": "markdown",
   "metadata": {},
   "source": [
    "### 3. Prepare Train/Validation Splits"
   ]
  },
  {
   "cell_type": "code",
   "execution_count": 3,
   "metadata": {},
   "outputs": [
    {
     "name": "stdout",
     "output_type": "stream",
     "text": [
      "Training samples: 30000\n",
      "Validation samples: 10000\n",
      "Test samples: 10000\n"
     ]
    }
   ],
   "source": [
    "train_texts, temp_texts, train_labels, temp_labels = train_test_split(\n",
    "    df[\"review\"], df[\"sentiment\"], test_size=0.4, random_state=42, stratify=df[\"sentiment\"]\n",
    ")\n",
    "val_texts, test_texts, val_labels, test_labels = train_test_split(\n",
    "    temp_texts, temp_labels, test_size=0.5, random_state=42, stratify=temp_labels\n",
    ")\n",
    "\n",
    "print(\"Training samples:\", len(train_texts))\n",
    "print(\"Validation samples:\", len(val_texts))\n",
    "print(\"Test samples:\", len(test_texts))"
   ]
  },
  {
   "cell_type": "markdown",
   "metadata": {},
   "source": [
    "### 4. Create a Dataset Class"
   ]
  },
  {
   "cell_type": "code",
   "execution_count": 4,
   "metadata": {},
   "outputs": [],
   "source": [
    "class SentimentDataset(torch.utils.data.Dataset):\n",
    "    def __init__(self, texts, labels, tokenizer, max_length=512):\n",
    "        # texts and labels can be lists or pd.Series\n",
    "        self.texts = texts.tolist() if hasattr(texts, \"tolist\") else texts\n",
    "        self.labels = labels.tolist() if hasattr(labels, \"tolist\") else labels\n",
    "        self.tokenizer = tokenizer\n",
    "        self.max_length = max_length\n",
    "\n",
    "    def __len__(self):\n",
    "        return len(self.texts)\n",
    "\n",
    "    def __getitem__(self, idx):\n",
    "        text = self.texts[idx]\n",
    "        label = self.labels[idx]\n",
    "        encoding = self.tokenizer(\n",
    "            text,\n",
    "            truncation=True,\n",
    "            padding=\"max_length\",\n",
    "            max_length=self.max_length,\n",
    "            return_tensors=\"pt\"\n",
    "        )\n",
    "        return {\n",
    "            \"input_ids\": encoding[\"input_ids\"].squeeze(),\n",
    "            \"attention_mask\": encoding[\"attention_mask\"].squeeze(),\n",
    "            \"labels\": torch.tensor(label, dtype=torch.long)\n",
    "        }"
   ]
  },
  {
   "cell_type": "markdown",
   "metadata": {},
   "source": [
    "### 5. Instansiate Tokenizer & Dataset"
   ]
  },
  {
   "cell_type": "code",
   "execution_count": 5,
   "metadata": {},
   "outputs": [],
   "source": [
    "# Tokenizer for the uncased model\n",
    "tokenizer_uncased = BertTokenizer.from_pretrained(\"bert-base-uncased\")\n",
    "# Tokenizer for the cased model\n",
    "tokenizer_cased = BertTokenizer.from_pretrained(\"bert-base-cased\")\n",
    "\n",
    "# Create datasets for each tokenizer.\n",
    "train_dataset_uncased = SentimentDataset(train_texts, train_labels, tokenizer_uncased)\n",
    "val_dataset_uncased = SentimentDataset(val_texts, val_labels, tokenizer_uncased)\n",
    "test_dataset_uncased = SentimentDataset(test_texts, test_labels, tokenizer_uncased)\n",
    "\n",
    "train_dataset_cased = SentimentDataset(train_texts, train_labels, tokenizer_cased)\n",
    "val_dataset_cased = SentimentDataset(val_texts, val_labels, tokenizer_cased)\n",
    "test_dataset_cased = SentimentDataset(test_texts, test_labels, tokenizer_cased)"
   ]
  },
  {
   "cell_type": "markdown",
   "metadata": {},
   "source": [
    "### 6. Initialize Model and Trainer"
   ]
  },
  {
   "cell_type": "code",
   "execution_count": 6,
   "metadata": {},
   "outputs": [
    {
     "name": "stderr",
     "output_type": "stream",
     "text": [
      "/cluster/home/askk/.local/lib/python3.10/site-packages/transformers/training_args.py:1611: FutureWarning: `evaluation_strategy` is deprecated and will be removed in version 4.46 of 🤗 Transformers. Use `eval_strategy` instead\n",
      "  warnings.warn(\n",
      "/cluster/home/askk/.local/lib/python3.10/site-packages/transformers/training_args.py:1611: FutureWarning: `evaluation_strategy` is deprecated and will be removed in version 4.46 of 🤗 Transformers. Use `eval_strategy` instead\n",
      "  warnings.warn(\n"
     ]
    }
   ],
   "source": [
    "training_args_uncased = TrainingArguments(\n",
    "    output_dir=\"outputs_uncased\",\n",
    "    num_train_epochs=3,\n",
    "    per_device_train_batch_size=8,\n",
    "    per_device_eval_batch_size=8,\n",
    "    evaluation_strategy=\"epoch\",\n",
    "    save_strategy=\"epoch\",\n",
    "    logging_dir=\"logs_uncased\",\n",
    "    logging_steps=50,\n",
    "    fp16=True if torch.cuda.is_available() else False\n",
    ")\n",
    "\n",
    "training_args_cased = TrainingArguments(\n",
    "    output_dir=\"outputs_cased\",\n",
    "    num_train_epochs=3,\n",
    "    per_device_train_batch_size=8,\n",
    "    per_device_eval_batch_size=8,\n",
    "    evaluation_strategy=\"epoch\",\n",
    "    save_strategy=\"epoch\",\n",
    "    logging_dir=\"logs_cased\",\n",
    "    logging_steps=50,\n",
    "    fp16=True if torch.cuda.is_available() else False\n",
    ")\n"
   ]
  },
  {
   "cell_type": "markdown",
   "metadata": {},
   "source": [
    "### 7. Train"
   ]
  },
  {
   "cell_type": "code",
   "execution_count": 7,
   "metadata": {},
   "outputs": [
    {
     "name": "stderr",
     "output_type": "stream",
     "text": [
      "Some weights of BertForSequenceClassification were not initialized from the model checkpoint at bert-base-uncased and are newly initialized: ['classifier.bias', 'classifier.weight']\n",
      "You should probably TRAIN this model on a down-stream task to be able to use it for predictions and inference.\n",
      "Some weights of BertForSequenceClassification were not initialized from the model checkpoint at bert-base-cased and are newly initialized: ['classifier.bias', 'classifier.weight']\n",
      "You should probably TRAIN this model on a down-stream task to be able to use it for predictions and inference.\n"
     ]
    }
   ],
   "source": [
    "model_uncased = BertForSequenceClassification.from_pretrained(\"bert-base-uncased\", num_labels=2)\n",
    "model_cased = BertForSequenceClassification.from_pretrained(\"bert-base-cased\", num_labels=2)"
   ]
  },
  {
   "cell_type": "code",
   "execution_count": 8,
   "metadata": {},
   "outputs": [],
   "source": [
    "trainer_uncased = Trainer(\n",
    "    model=model_uncased,\n",
    "    args=training_args_uncased,\n",
    "    train_dataset=train_dataset_uncased,\n",
    "    eval_dataset=val_dataset_uncased\n",
    ")\n",
    "\n",
    "trainer_cased = Trainer(\n",
    "    model=model_cased,\n",
    "    args=training_args_cased,\n",
    "    train_dataset=train_dataset_cased,\n",
    "    eval_dataset=val_dataset_cased\n",
    ")"
   ]
  },
  {
   "cell_type": "code",
   "execution_count": 9,
   "metadata": {},
   "outputs": [
    {
     "name": "stdout",
     "output_type": "stream",
     "text": [
      "Training bert-base-uncased model...\n"
     ]
    },
    {
     "data": {
      "text/html": [
       "\n",
       "    <div>\n",
       "      \n",
       "      <progress value='11250' max='11250' style='width:300px; height:20px; vertical-align: middle;'></progress>\n",
       "      [11250/11250 26:26, Epoch 3/3]\n",
       "    </div>\n",
       "    <table border=\"1\" class=\"dataframe\">\n",
       "  <thead>\n",
       " <tr style=\"text-align: left;\">\n",
       "      <th>Epoch</th>\n",
       "      <th>Training Loss</th>\n",
       "      <th>Validation Loss</th>\n",
       "    </tr>\n",
       "  </thead>\n",
       "  <tbody>\n",
       "    <tr>\n",
       "      <td>1</td>\n",
       "      <td>0.296400</td>\n",
       "      <td>0.233284</td>\n",
       "    </tr>\n",
       "    <tr>\n",
       "      <td>2</td>\n",
       "      <td>0.137600</td>\n",
       "      <td>0.320224</td>\n",
       "    </tr>\n",
       "    <tr>\n",
       "      <td>3</td>\n",
       "      <td>0.060300</td>\n",
       "      <td>0.323376</td>\n",
       "    </tr>\n",
       "  </tbody>\n",
       "</table><p>"
      ],
      "text/plain": [
       "<IPython.core.display.HTML object>"
      ]
     },
     "metadata": {},
     "output_type": "display_data"
    },
    {
     "data": {
      "text/plain": [
       "TrainOutput(global_step=11250, training_loss=0.19302278794050218, metrics={'train_runtime': 1592.2376, 'train_samples_per_second': 56.524, 'train_steps_per_second': 7.066, 'total_flos': 2.36799949824e+16, 'train_loss': 0.19302278794050218, 'epoch': 3.0})"
      ]
     },
     "execution_count": 9,
     "metadata": {},
     "output_type": "execute_result"
    }
   ],
   "source": [
    "print(\"Training bert-base-uncased model...\")\n",
    "trainer_uncased.train()"
   ]
  },
  {
   "cell_type": "code",
   "execution_count": 10,
   "metadata": {},
   "outputs": [
    {
     "name": "stdout",
     "output_type": "stream",
     "text": [
      "Training bert-base-cased model...\n"
     ]
    },
    {
     "data": {
      "text/html": [
       "\n",
       "    <div>\n",
       "      \n",
       "      <progress value='11250' max='11250' style='width:300px; height:20px; vertical-align: middle;'></progress>\n",
       "      [11250/11250 24:47, Epoch 3/3]\n",
       "    </div>\n",
       "    <table border=\"1\" class=\"dataframe\">\n",
       "  <thead>\n",
       " <tr style=\"text-align: left;\">\n",
       "      <th>Epoch</th>\n",
       "      <th>Training Loss</th>\n",
       "      <th>Validation Loss</th>\n",
       "    </tr>\n",
       "  </thead>\n",
       "  <tbody>\n",
       "    <tr>\n",
       "      <td>1</td>\n",
       "      <td>0.313300</td>\n",
       "      <td>0.270315</td>\n",
       "    </tr>\n",
       "    <tr>\n",
       "      <td>2</td>\n",
       "      <td>0.183500</td>\n",
       "      <td>0.319120</td>\n",
       "    </tr>\n",
       "    <tr>\n",
       "      <td>3</td>\n",
       "      <td>0.112300</td>\n",
       "      <td>0.337604</td>\n",
       "    </tr>\n",
       "  </tbody>\n",
       "</table><p>"
      ],
      "text/plain": [
       "<IPython.core.display.HTML object>"
      ]
     },
     "metadata": {},
     "output_type": "display_data"
    },
    {
     "data": {
      "text/plain": [
       "TrainOutput(global_step=11250, training_loss=0.23029671374956767, metrics={'train_runtime': 1487.2043, 'train_samples_per_second': 60.516, 'train_steps_per_second': 7.565, 'total_flos': 2.36799949824e+16, 'train_loss': 0.23029671374956767, 'epoch': 3.0})"
      ]
     },
     "execution_count": 10,
     "metadata": {},
     "output_type": "execute_result"
    }
   ],
   "source": [
    "print(\"Training bert-base-cased model...\")\n",
    "trainer_cased.train()"
   ]
  },
  {
   "cell_type": "code",
   "execution_count": 11,
   "metadata": {},
   "outputs": [
    {
     "data": {
      "text/html": [],
      "text/plain": [
       "<IPython.core.display.HTML object>"
      ]
     },
     "metadata": {},
     "output_type": "display_data"
    },
    {
     "data": {
      "text/html": [],
      "text/plain": [
       "<IPython.core.display.HTML object>"
      ]
     },
     "metadata": {},
     "output_type": "display_data"
    }
   ],
   "source": [
    "# Uncased predictions\n",
    "predictions_uncased = trainer_uncased.predict(test_dataset_uncased)\n",
    "pred_labels_uncased = predictions_uncased.predictions.argmax(axis=1)\n",
    "\n",
    "# Cased predictions\n",
    "predictions_cased = trainer_cased.predict(test_dataset_cased)\n",
    "pred_labels_cased = predictions_cased.predictions.argmax(axis=1)\n"
   ]
  },
  {
   "cell_type": "code",
   "execution_count": 12,
   "metadata": {},
   "outputs": [
    {
     "name": "stdout",
     "output_type": "stream",
     "text": [
      "=== Model Comparison ===\n",
      "bert-base-uncased -> Accuracy: 0.9367, F1 (macro): 0.9367\n",
      "bert-base-cased   -> Accuracy: 0.9299, F1 (macro): 0.9299\n",
      "\n",
      "Classification Report (Uncased):\n",
      "              precision    recall  f1-score   support\n",
      "\n",
      "           0       0.94      0.94      0.94      5000\n",
      "           1       0.94      0.94      0.94      5000\n",
      "\n",
      "    accuracy                           0.94     10000\n",
      "   macro avg       0.94      0.94      0.94     10000\n",
      "weighted avg       0.94      0.94      0.94     10000\n",
      "\n",
      "Classification Report (Cased):\n",
      "              precision    recall  f1-score   support\n",
      "\n",
      "           0       0.93      0.93      0.93      5000\n",
      "           1       0.93      0.93      0.93      5000\n",
      "\n",
      "    accuracy                           0.93     10000\n",
      "   macro avg       0.93      0.93      0.93     10000\n",
      "weighted avg       0.93      0.93      0.93     10000\n",
      "\n",
      "Number of test samples where the models disagree: 498\n",
      "Examples of disagreements:\n"
     ]
    },
    {
     "data": {
      "text/html": [
       "<div>\n",
       "<style scoped>\n",
       "    .dataframe tbody tr th:only-of-type {\n",
       "        vertical-align: middle;\n",
       "    }\n",
       "\n",
       "    .dataframe tbody tr th {\n",
       "        vertical-align: top;\n",
       "    }\n",
       "\n",
       "    .dataframe thead th {\n",
       "        text-align: right;\n",
       "    }\n",
       "</style>\n",
       "<table border=\"1\" class=\"dataframe\">\n",
       "  <thead>\n",
       "    <tr style=\"text-align: right;\">\n",
       "      <th></th>\n",
       "      <th>review</th>\n",
       "      <th>label</th>\n",
       "      <th>pred_uncased</th>\n",
       "      <th>pred_cased</th>\n",
       "    </tr>\n",
       "  </thead>\n",
       "  <tbody>\n",
       "    <tr>\n",
       "      <th>21065</th>\n",
       "      <td>STAR RATING: ***** Saturday Night **** Friday ...</td>\n",
       "      <td>0</td>\n",
       "      <td>1</td>\n",
       "      <td>0</td>\n",
       "    </tr>\n",
       "    <tr>\n",
       "      <th>31445</th>\n",
       "      <td>Ok, so, this is coming a few weeks late, but i...</td>\n",
       "      <td>1</td>\n",
       "      <td>0</td>\n",
       "      <td>1</td>\n",
       "    </tr>\n",
       "    <tr>\n",
       "      <th>24070</th>\n",
       "      <td>After watching this film I experienced a new s...</td>\n",
       "      <td>1</td>\n",
       "      <td>1</td>\n",
       "      <td>0</td>\n",
       "    </tr>\n",
       "    <tr>\n",
       "      <th>46495</th>\n",
       "      <td>I got a good laugh reading all the idiotic com...</td>\n",
       "      <td>1</td>\n",
       "      <td>0</td>\n",
       "      <td>1</td>\n",
       "    </tr>\n",
       "    <tr>\n",
       "      <th>7145</th>\n",
       "      <td>i've just read the most recent remarks about t...</td>\n",
       "      <td>1</td>\n",
       "      <td>1</td>\n",
       "      <td>0</td>\n",
       "    </tr>\n",
       "    <tr>\n",
       "      <th>20726</th>\n",
       "      <td>It is more a subtle story of the fact that in ...</td>\n",
       "      <td>1</td>\n",
       "      <td>0</td>\n",
       "      <td>1</td>\n",
       "    </tr>\n",
       "    <tr>\n",
       "      <th>2902</th>\n",
       "      <td>So.. what can I tell you about this movie. If ...</td>\n",
       "      <td>0</td>\n",
       "      <td>0</td>\n",
       "      <td>1</td>\n",
       "    </tr>\n",
       "    <tr>\n",
       "      <th>5189</th>\n",
       "      <td>The new voices scare me! Kuzco doesn't have to...</td>\n",
       "      <td>1</td>\n",
       "      <td>0</td>\n",
       "      <td>1</td>\n",
       "    </tr>\n",
       "    <tr>\n",
       "      <th>31834</th>\n",
       "      <td>This is a movie that demonstrates that mood an...</td>\n",
       "      <td>0</td>\n",
       "      <td>1</td>\n",
       "      <td>0</td>\n",
       "    </tr>\n",
       "    <tr>\n",
       "      <th>11521</th>\n",
       "      <td>Steven Segal has done some awful films, but th...</td>\n",
       "      <td>0</td>\n",
       "      <td>0</td>\n",
       "      <td>1</td>\n",
       "    </tr>\n",
       "  </tbody>\n",
       "</table>\n",
       "</div>"
      ],
      "text/plain": [
       "                                                  review  label  pred_uncased  \\\n",
       "21065  STAR RATING: ***** Saturday Night **** Friday ...      0             1   \n",
       "31445  Ok, so, this is coming a few weeks late, but i...      1             0   \n",
       "24070  After watching this film I experienced a new s...      1             1   \n",
       "46495  I got a good laugh reading all the idiotic com...      1             0   \n",
       "7145   i've just read the most recent remarks about t...      1             1   \n",
       "20726  It is more a subtle story of the fact that in ...      1             0   \n",
       "2902   So.. what can I tell you about this movie. If ...      0             0   \n",
       "5189   The new voices scare me! Kuzco doesn't have to...      1             0   \n",
       "31834  This is a movie that demonstrates that mood an...      0             1   \n",
       "11521  Steven Segal has done some awful films, but th...      0             0   \n",
       "\n",
       "       pred_cased  \n",
       "21065           0  \n",
       "31445           1  \n",
       "24070           0  \n",
       "46495           1  \n",
       "7145            0  \n",
       "20726           1  \n",
       "2902            1  \n",
       "5189            1  \n",
       "31834           0  \n",
       "11521           1  "
      ]
     },
     "metadata": {},
     "output_type": "display_data"
    },
    {
     "data": {
      "image/png": "[encoded data removed]",
      "text/plain": [
       "<Figure size 800x500 with 1 Axes>"
      ]
     },
     "metadata": {},
     "output_type": "display_data"
    }
   ],
   "source": [
    "# Create a DataFrame for the test set\n",
    "df_test = pd.DataFrame({\n",
    "    \"review\": test_texts,   # The text of the review\n",
    "    \"label\": test_labels    # The true label\n",
    "})\n",
    "\n",
    "# Add columns for predictions from both models\n",
    "df_test[\"pred_uncased\"] = pred_labels_uncased\n",
    "df_test[\"pred_cased\"] = pred_labels_cased\n",
    "\n",
    "# Calculate metrics for each model\n",
    "acc_uncased = accuracy_score(df_test[\"label\"], df_test[\"pred_uncased\"])\n",
    "f1_uncased = f1_score(df_test[\"label\"], df_test[\"pred_uncased\"], average=\"macro\")\n",
    "\n",
    "acc_cased = accuracy_score(df_test[\"label\"], df_test[\"pred_cased\"])\n",
    "f1_cased = f1_score(df_test[\"label\"], df_test[\"pred_cased\"], average=\"macro\")\n",
    "\n",
    "print(\"=== Model Comparison ===\")\n",
    "print(f\"bert-base-uncased -> Accuracy: {acc_uncased:.4f}, F1 (macro): {f1_uncased:.4f}\")\n",
    "print(f\"bert-base-cased   -> Accuracy: {acc_cased:.4f}, F1 (macro): {f1_cased:.4f}\\n\")\n",
    "\n",
    "# Optional: Print a detailed classification report for each\n",
    "print(\"Classification Report (Uncased):\")\n",
    "print(classification_report(df_test[\"label\"], df_test[\"pred_uncased\"]))\n",
    "print(\"Classification Report (Cased):\")\n",
    "print(classification_report(df_test[\"label\"], df_test[\"pred_cased\"]))\n",
    "\n",
    "# Identify rows where the two models disagree\n",
    "df_diff = df_test[df_test[\"pred_uncased\"] != df_test[\"pred_cased\"]]\n",
    "print(f\"Number of test samples where the models disagree: {len(df_diff)}\")\n",
    "\n",
    "# Display a few examples of disagreements\n",
    "print(\"Examples of disagreements:\")\n",
    "display(df_diff[[\"review\", \"label\", \"pred_uncased\", \"pred_cased\"]].head(10))\n",
    "\n",
    "# Visualize the disagreement distribution using a count plot\n",
    "plt.figure(figsize=(8, 5))\n",
    "sns.countplot(data=df_diff, x=\"pred_uncased\", hue=\"pred_cased\")\n",
    "plt.title(\"Count of Disagreements between Uncased and Cased Predictions\")\n",
    "plt.xlabel(\"bert-base-uncased Prediction\")\n",
    "plt.ylabel(\"Count\")\n",
    "plt.legend(title=\"bert-base-cased Prediction\")\n",
    "plt.show()\n"
   ]
  },
  {
   "cell_type": "markdown",
   "metadata": {},
   "source": [
    "### Bert-base-uncased prediction on ww2 sample dataset"
   ]
  },
  {
   "cell_type": "code",
   "execution_count": 13,
   "metadata": {
    "scrolled": true
   },
   "outputs": [
    {
     "name": "stdout",
     "output_type": "stream",
     "text": [
      "Original training set: 773 reviews\n",
      "Filtered training set (only positive and negative): 654 reviews\n",
      "Training samples: 523\n",
      "Validation samples: 131\n",
      "Class weights: [7.26388889 0.53696099]\n"
     ]
    },
    {
     "name": "stderr",
     "output_type": "stream",
     "text": [
      "/cluster/home/askk/.local/lib/python3.10/site-packages/transformers/training_args.py:1611: FutureWarning: `evaluation_strategy` is deprecated and will be removed in version 4.46 of 🤗 Transformers. Use `eval_strategy` instead\n",
      "  warnings.warn(\n",
      "Some weights of BertForSequenceClassification were not initialized from the model checkpoint at bert-base-uncased and are newly initialized: ['classifier.bias', 'classifier.weight']\n",
      "You should probably TRAIN this model on a down-stream task to be able to use it for predictions and inference.\n"
     ]
    },
    {
     "name": "stdout",
     "output_type": "stream",
     "text": [
      "Fine-tuning bert-base-uncased on binary bunker reviews with class weighting...\n"
     ]
    },
    {
     "data": {
      "text/html": [
       "\n",
       "    <div>\n",
       "      \n",
       "      <progress value='198' max='198' style='width:300px; height:20px; vertical-align: middle;'></progress>\n",
       "      [198/198 00:25, Epoch 3/3]\n",
       "    </div>\n",
       "    <table border=\"1\" class=\"dataframe\">\n",
       "  <thead>\n",
       " <tr style=\"text-align: left;\">\n",
       "      <th>Epoch</th>\n",
       "      <th>Training Loss</th>\n",
       "      <th>Validation Loss</th>\n",
       "    </tr>\n",
       "  </thead>\n",
       "  <tbody>\n",
       "    <tr>\n",
       "      <td>1</td>\n",
       "      <td>0.574400</td>\n",
       "      <td>0.752057</td>\n",
       "    </tr>\n",
       "    <tr>\n",
       "      <td>2</td>\n",
       "      <td>0.301000</td>\n",
       "      <td>0.637851</td>\n",
       "    </tr>\n",
       "    <tr>\n",
       "      <td>3</td>\n",
       "      <td>0.075800</td>\n",
       "      <td>0.674478</td>\n",
       "    </tr>\n",
       "  </tbody>\n",
       "</table><p>"
      ],
      "text/plain": [
       "<IPython.core.display.HTML object>"
      ]
     },
     "metadata": {},
     "output_type": "display_data"
    }
   ],
   "source": [
    "\n",
    "# -----------------------------\n",
    "# 1. Data Preparation\n",
    "# -----------------------------\n",
    "df_train = pd.read_pickle(\"../data/processed/bunker_reviews_fine_tuning.pkl\")\n",
    "print(\"Original training set:\", len(df_train), \"reviews\")\n",
    "\n",
    "# Filter out neutral reviews; keep only \"positive\" and \"negative\"\n",
    "df_train = df_train[df_train[\"manual_classification\"].isin([\"positive\", \"negative\"])].copy()\n",
    "print(\"Filtered training set (only positive and negative):\", len(df_train), \"reviews\")\n",
    "\n",
    "# Map labels: negative → 0, positive → 1\n",
    "label_mapping = {\"negative\": 0, \"positive\": 1}\n",
    "df_train[\"binary_label\"] = df_train[\"manual_classification\"].map(label_mapping)\n",
    "\n",
    "# Extract texts and labels\n",
    "train_texts = df_train[\"clean_text\"].tolist()\n",
    "train_labels = df_train[\"binary_label\"].tolist()\n",
    "\n",
    "# Split into training and validation sets (60/20/20 split)\n",
    "train_texts_split, val_texts_split, train_labels_split, val_labels_split = train_test_split(\n",
    "    train_texts, train_labels, test_size=0.2, random_state=42, stratify=train_labels\n",
    ")\n",
    "print(\"Training samples:\", len(train_texts_split))\n",
    "print(\"Validation samples:\", len(val_texts_split))\n",
    "\n",
    "# -----------------------------\n",
    "# 2. Compute Class Weights\n",
    "# -----------------------------\n",
    "classes = np.unique(train_labels_split)\n",
    "class_weights = compute_class_weight(\"balanced\", classes=classes, y=train_labels_split)\n",
    "print(\"Class weights:\", class_weights)\n",
    "class_weights_tensor = torch.tensor(class_weights, dtype=torch.float)\n",
    "\n",
    "# -----------------------------\n",
    "# 3. Define a Custom Dataset Class\n",
    "# -----------------------------\n",
    "class SentimentDataset(torch.utils.data.Dataset):\n",
    "    def __init__(self, texts, labels, tokenizer, max_length=512):\n",
    "        self.texts = texts if isinstance(texts, list) else texts.tolist()\n",
    "        self.labels = labels if isinstance(labels, list) else labels.tolist()\n",
    "        self.tokenizer = tokenizer\n",
    "        self.max_length = max_length\n",
    "\n",
    "    def __len__(self):\n",
    "        return len(self.texts)\n",
    "\n",
    "    def __getitem__(self, idx):\n",
    "        text = self.texts[idx]\n",
    "        label = self.labels[idx]\n",
    "        encoding = self.tokenizer(\n",
    "            text,\n",
    "            truncation=True,\n",
    "            padding=\"max_length\",\n",
    "            max_length=self.max_length,\n",
    "            return_tensors=\"pt\"\n",
    "        )\n",
    "        return {\n",
    "            \"input_ids\": encoding[\"input_ids\"].squeeze(),\n",
    "            \"attention_mask\": encoding[\"attention_mask\"].squeeze(),\n",
    "            \"labels\": torch.tensor(label, dtype=torch.long)\n",
    "        }\n",
    "\n",
    "# -----------------------------\n",
    "# 4. Define a Custom Trainer with Weighted Loss\n",
    "# -----------------------------\n",
    "class WeightedTrainer(Trainer):\n",
    "    def compute_loss(self, model, inputs, return_outputs=False, **kwargs):\n",
    "        # Remove labels from inputs and get them separately\n",
    "        labels = inputs.pop(\"labels\")\n",
    "        outputs = model(**inputs)  # forward pass\n",
    "        logits = outputs.logits     # model predictions\n",
    "\n",
    "        # Create a weighted CrossEntropyLoss using the computed class weights\n",
    "        loss_fct = CrossEntropyLoss(weight=class_weights_tensor.to(model.device))\n",
    "        loss = loss_fct(logits, labels)\n",
    "\n",
    "        return (loss, outputs) if return_outputs else loss\n",
    "\n",
    "# -----------------------------\n",
    "# 5. Create Tokenizer and Datasets\n",
    "# -----------------------------\n",
    "tokenizer_uncased = BertTokenizer.from_pretrained(\"bert-base-uncased\")\n",
    "train_dataset = SentimentDataset(train_texts_split, train_labels_split, tokenizer_uncased)\n",
    "val_dataset = SentimentDataset(val_texts_split, val_labels_split, tokenizer_uncased)\n",
    "\n",
    "# -----------------------------\n",
    "# 6. Set Up Training Arguments\n",
    "# -----------------------------\n",
    "training_args = TrainingArguments(\n",
    "    output_dir=\"outputs_bunker_binary_uncased\",\n",
    "    num_train_epochs=3,\n",
    "    per_device_train_batch_size=8,\n",
    "    per_device_eval_batch_size=8,\n",
    "    evaluation_strategy=\"epoch\",  # Note: will be deprecated in future versions; use eval_strategy later.\n",
    "    save_strategy=\"epoch\",\n",
    "    logging_steps=50,\n",
    "    learning_rate=2e-5,\n",
    "    fp16=True if torch.cuda.is_available() else False\n",
    ")\n",
    "\n",
    "# -----------------------------\n",
    "# 7. Load Model\n",
    "# -----------------------------\n",
    "model_uncased = BertForSequenceClassification.from_pretrained(\"bert-base-uncased\", num_labels=2)\n",
    "\n",
    "# -----------------------------\n",
    "# 8. Initialize Custom Trainer and Fine-Tune\n",
    "# -----------------------------\n",
    "trainer_uncased = WeightedTrainer(\n",
    "    model=model_uncased,\n",
    "    args=training_args,\n",
    "    train_dataset=train_dataset,\n",
    "    eval_dataset=val_dataset\n",
    ")\n",
    "\n",
    "print(\"Fine-tuning bert-base-uncased on binary bunker reviews with class weighting...\")\n",
    "trainer_uncased.train()\n",
    "trainer_uncased.save_model(\"outputs_bunker_binary_uncased/final_model\")\n"
   ]
  },
  {
   "cell_type": "code",
   "execution_count": 23,
   "metadata": {},
   "outputs": [
    {
     "name": "stdout",
     "output_type": "stream",
     "text": [
      "Original test set: 194 reviews\n",
      "Filtered test set (only positive and negative): 172 reviews\n"
     ]
    },
    {
     "data": {
      "text/html": [],
      "text/plain": [
       "<IPython.core.display.HTML object>"
      ]
     },
     "metadata": {},
     "output_type": "display_data"
    },
    {
     "name": "stdout",
     "output_type": "stream",
     "text": [
      "Predictions saved to ../data/processed/bunker_predictions_binary.csv\n",
      "Accuracy: 0.9767\n",
      "Confusion Matrix:\n",
      "[[154   2]\n",
      " [  2  14]]\n",
      "Classification Report:\n",
      "              precision    recall  f1-score   support\n",
      "\n",
      "    positive       0.99      0.99      0.99       156\n",
      "    negative       0.88      0.88      0.88        16\n",
      "\n",
      "    accuracy                           0.98       172\n",
      "   macro avg       0.93      0.93      0.93       172\n",
      "weighted avg       0.98      0.98      0.98       172\n",
      "\n"
     ]
    }
   ],
   "source": [
    "model_uncased = BertForSequenceClassification.from_pretrained(\"outputs_bunker_binary_uncased/final_model\", num_labels=2)\n",
    "tokenizer_uncased = BertTokenizer.from_pretrained(\"bert-base-uncased\")\n",
    "\n",
    "# Load the test dataset (this may contain all reviews including neutral)\n",
    "df_test = pd.read_pickle(\"../data/processed/bunker_reviews_test_set.pkl\")\n",
    "print(\"Original test set:\", len(df_test), \"reviews\")\n",
    "\n",
    "# Filter the test set to only include reviews with manual classifications \"positive\" or \"negative\"\n",
    "df_test_filtered = df_test[df_test[\"manual_classification\"].isin([\"positive\", \"negative\"])].copy()\n",
    "print(\"Filtered test set (only positive and negative):\", len(df_test_filtered), \"reviews\")\n",
    "\n",
    "# Map labels in the test set for evaluation (if manual_classification exists)\n",
    "df_test_filtered[\"binary_label\"] = df_test_filtered[\"manual_classification\"].map(label_mapping)\n",
    "\n",
    "# Prepare the texts and true labels\n",
    "test_texts = df_test_filtered[\"clean_text\"].tolist()\n",
    "true_labels = df_test_filtered[\"binary_label\"].tolist()\n",
    "\n",
    "# Define an inference dataset\n",
    "class InferenceDataset(torch.utils.data.Dataset):\n",
    "    def __init__(self, texts, tokenizer, max_length=512):\n",
    "        self.texts = texts if isinstance(texts, list) else texts.tolist()\n",
    "        self.tokenizer = tokenizer\n",
    "        self.max_length = max_length\n",
    "    \n",
    "    def __len__(self):\n",
    "        return len(self.texts)\n",
    "    \n",
    "    def __getitem__(self, idx):\n",
    "        text = self.texts[idx]\n",
    "        encoding = self.tokenizer(\n",
    "            text,\n",
    "            truncation=True,\n",
    "            padding=\"max_length\",\n",
    "            max_length=self.max_length,\n",
    "            return_tensors=\"pt\"\n",
    "        )\n",
    "        return {\n",
    "            \"input_ids\": encoding[\"input_ids\"].squeeze(),\n",
    "            \"attention_mask\": encoding[\"attention_mask\"].squeeze()\n",
    "        }\n",
    "\n",
    "inference_dataset = InferenceDataset(test_texts, tokenizer_uncased)\n",
    "\n",
    "# Set up evaluation TrainingArguments\n",
    "eval_training_args = TrainingArguments(\n",
    "    output_dir=\"outputs_bunker_binary_uncased\",\n",
    "    per_device_eval_batch_size=8\n",
    ")\n",
    "\n",
    "# Initialize Trainer (we only need the model and the arguments for prediction)\n",
    "trainer = Trainer(\n",
    "    model=model_uncased,\n",
    "    args=eval_training_args\n",
    ")\n",
    "\n",
    "# Get predictions\n",
    "predictions_output = trainer.predict(inference_dataset)\n",
    "logits = predictions_output.predictions  # shape: (num_samples, 2)\n",
    "probs = F.softmax(torch.tensor(logits), dim=1).numpy()\n",
    "\n",
    "# Map binary predictions to string labels (0: negative, 1: positive)\n",
    "label_mapping_str = {0: \"negative\", 1: \"positive\"}\n",
    "final_preds = [label_mapping_str[p.argmax()] for p in probs]\n",
    "\n",
    "# Add predictions to the test DataFrame\n",
    "df_test_filtered[\"predicted_sentiment\"] = final_preds\n",
    "\n",
    "# Optionally reorder columns (adjust if necessary)\n",
    "df_test_filtered = df_test_filtered[[\"clean_text\", \"manual_classification\", \"predicted_sentiment\", \"tokens\"]]\n",
    "\n",
    "# Save predictions to CSV\n",
    "df_test_filtered.to_csv(\"../data/processed/bunker_predictions_binary.csv\", index=False)\n",
    "print(\"Predictions saved to ../data/processed/bunker_predictions_binary.csv\")\n",
    "\n",
    "# Evaluate performance (if gold labels are available)\n",
    "true_labels_str = [label_mapping_str[label] for label in true_labels]\n",
    "accuracy = accuracy_score(true_labels_str, final_preds)\n",
    "\n",
    "print(f\"Accuracy: {accuracy:.4f}\")\n",
    "\n",
    "cm = confusion_matrix(df_test_filtered[\"manual_classification\"], df_test_filtered[\"predicted_sentiment\"], labels=[\"positive\", \"negative\"])\n",
    "print(\"Confusion Matrix:\")\n",
    "print(cm)\n",
    "\n",
    "report = classification_report(df_test_filtered[\"manual_classification\"], df_test_filtered[\"predicted_sentiment\"], labels=[\"positive\", \"negative\"])\n",
    "print(\"Classification Report:\")\n",
    "print(report)\n"
   ]
  },
  {
   "cell_type": "markdown",
   "metadata": {},
   "source": [
    "### Bert-base-cased prediction on ww2 sample dataset "
   ]
  },
  {
   "cell_type": "code",
   "execution_count": 21,
   "metadata": {},
   "outputs": [
    {
     "name": "stdout",
     "output_type": "stream",
     "text": [
      "Original training set: 773 reviews\n",
      "Filtered training set (only positive and negative): 654 reviews\n",
      "Training samples: 523\n",
      "Validation samples: 131\n",
      "Class weights: [7.26388889 0.53696099]\n"
     ]
    },
    {
     "name": "stderr",
     "output_type": "stream",
     "text": [
      "/cluster/home/askk/.local/lib/python3.10/site-packages/transformers/training_args.py:1611: FutureWarning: `evaluation_strategy` is deprecated and will be removed in version 4.46 of 🤗 Transformers. Use `eval_strategy` instead\n",
      "  warnings.warn(\n",
      "Some weights of BertForSequenceClassification were not initialized from the model checkpoint at bert-base-cased and are newly initialized: ['classifier.bias', 'classifier.weight']\n",
      "You should probably TRAIN this model on a down-stream task to be able to use it for predictions and inference.\n"
     ]
    },
    {
     "name": "stdout",
     "output_type": "stream",
     "text": [
      "Fine-tuning bert-base-cased on binary bunker reviews with class weighting...\n"
     ]
    },
    {
     "data": {
      "text/html": [
       "\n",
       "    <div>\n",
       "      \n",
       "      <progress value='198' max='198' style='width:300px; height:20px; vertical-align: middle;'></progress>\n",
       "      [198/198 00:25, Epoch 3/3]\n",
       "    </div>\n",
       "    <table border=\"1\" class=\"dataframe\">\n",
       "  <thead>\n",
       " <tr style=\"text-align: left;\">\n",
       "      <th>Epoch</th>\n",
       "      <th>Training Loss</th>\n",
       "      <th>Validation Loss</th>\n",
       "    </tr>\n",
       "  </thead>\n",
       "  <tbody>\n",
       "    <tr>\n",
       "      <td>1</td>\n",
       "      <td>0.608100</td>\n",
       "      <td>0.586244</td>\n",
       "    </tr>\n",
       "    <tr>\n",
       "      <td>2</td>\n",
       "      <td>0.463700</td>\n",
       "      <td>0.729826</td>\n",
       "    </tr>\n",
       "    <tr>\n",
       "      <td>3</td>\n",
       "      <td>0.093900</td>\n",
       "      <td>0.607110</td>\n",
       "    </tr>\n",
       "  </tbody>\n",
       "</table><p>"
      ],
      "text/plain": [
       "<IPython.core.display.HTML object>"
      ]
     },
     "metadata": {},
     "output_type": "display_data"
    }
   ],
   "source": [
    "\n",
    "# -----------------------------\n",
    "# 1. Data Preparation\n",
    "# -----------------------------\n",
    "df_train = pd.read_pickle(\"../data/processed/bunker_reviews_fine_tuning.pkl\")\n",
    "print(\"Original training set:\", len(df_train), \"reviews\")\n",
    "\n",
    "# Filter out neutral reviews; keep only \"positive\" and \"negative\"\n",
    "df_train = df_train[df_train[\"manual_classification\"].isin([\"positive\", \"negative\"])].copy()\n",
    "print(\"Filtered training set (only positive and negative):\", len(df_train), \"reviews\")\n",
    "\n",
    "# Map labels: negative → 0, positive → 1\n",
    "label_mapping = {\"negative\": 0, \"positive\": 1}\n",
    "df_train[\"binary_label\"] = df_train[\"manual_classification\"].map(label_mapping)\n",
    "\n",
    "# Extract texts and labels\n",
    "train_texts = df_train[\"clean_text\"].tolist()\n",
    "train_labels = df_train[\"binary_label\"].tolist()\n",
    "\n",
    "# Split into training and validation sets (60/20/20 split)\n",
    "train_texts_split, val_texts_split, train_labels_split, val_labels_split = train_test_split(\n",
    "    train_texts, train_labels, test_size=0.2, random_state=42, stratify=train_labels\n",
    ")\n",
    "print(\"Training samples:\", len(train_texts_split))\n",
    "print(\"Validation samples:\", len(val_texts_split))\n",
    "\n",
    "# -----------------------------\n",
    "# 2. Compute Class Weights\n",
    "# -----------------------------\n",
    "classes = np.unique(train_labels_split)\n",
    "class_weights = compute_class_weight(\"balanced\", classes=classes, y=train_labels_split)\n",
    "print(\"Class weights:\", class_weights)\n",
    "class_weights_tensor = torch.tensor(class_weights, dtype=torch.float)\n",
    "\n",
    "# -----------------------------\n",
    "# 3. Define a Custom Dataset Class\n",
    "# -----------------------------\n",
    "class SentimentDataset(torch.utils.data.Dataset):\n",
    "    def __init__(self, texts, labels, tokenizer, max_length=512):\n",
    "        self.texts = texts if isinstance(texts, list) else texts.tolist()\n",
    "        self.labels = labels if isinstance(labels, list) else labels.tolist()\n",
    "        self.tokenizer = tokenizer\n",
    "        self.max_length = max_length\n",
    "\n",
    "    def __len__(self):\n",
    "        return len(self.texts)\n",
    "\n",
    "    def __getitem__(self, idx):\n",
    "        text = self.texts[idx]\n",
    "        label = self.labels[idx]\n",
    "        encoding = self.tokenizer(\n",
    "            text,\n",
    "            truncation=True,\n",
    "            padding=\"max_length\",\n",
    "            max_length=self.max_length,\n",
    "            return_tensors=\"pt\"\n",
    "        )\n",
    "        return {\n",
    "            \"input_ids\": encoding[\"input_ids\"].squeeze(),\n",
    "            \"attention_mask\": encoding[\"attention_mask\"].squeeze(),\n",
    "            \"labels\": torch.tensor(label, dtype=torch.long)\n",
    "        }\n",
    "\n",
    "# -----------------------------\n",
    "# 4. Define a Custom Trainer with Weighted Loss\n",
    "# -----------------------------\n",
    "class WeightedTrainer(Trainer):\n",
    "    def compute_loss(self, model, inputs, return_outputs=False, **kwargs):\n",
    "        # Remove labels from inputs and get them separately\n",
    "        labels = inputs.pop(\"labels\")\n",
    "        outputs = model(**inputs)  # forward pass\n",
    "        logits = outputs.logits     # model predictions\n",
    "\n",
    "        # Create a weighted CrossEntropyLoss using the computed class weights\n",
    "        loss_fct = CrossEntropyLoss(weight=class_weights_tensor.to(model.device))\n",
    "        loss = loss_fct(logits, labels)\n",
    "\n",
    "        return (loss, outputs) if return_outputs else loss\n",
    "\n",
    "# -----------------------------\n",
    "# 5. Create Tokenizer and Datasets\n",
    "# -----------------------------\n",
    "tokenizer_uncased = BertTokenizer.from_pretrained(\"bert-base-cased\")\n",
    "train_dataset = SentimentDataset(train_texts_split, train_labels_split, tokenizer_uncased)\n",
    "val_dataset = SentimentDataset(val_texts_split, val_labels_split, tokenizer_uncased)\n",
    "\n",
    "# -----------------------------\n",
    "# 6. Set Up Training Arguments\n",
    "# -----------------------------\n",
    "training_args = TrainingArguments(\n",
    "    output_dir=\"outputs_bunker_binary_cased\",\n",
    "    num_train_epochs=3,\n",
    "    per_device_train_batch_size=8,\n",
    "    per_device_eval_batch_size=8,\n",
    "    evaluation_strategy=\"epoch\",  # Note: will be deprecated in future versions; use eval_strategy later.\n",
    "    save_strategy=\"epoch\",\n",
    "    logging_steps=50,\n",
    "    learning_rate=2e-5,\n",
    "    fp16=True if torch.cuda.is_available() else False\n",
    ")\n",
    "\n",
    "# -----------------------------\n",
    "# 7. Load Model\n",
    "# -----------------------------\n",
    "model_uncased = BertForSequenceClassification.from_pretrained(\"bert-base-cased\", num_labels=2)\n",
    "\n",
    "# -----------------------------\n",
    "# 8. Initialize Custom Trainer and Fine-Tune\n",
    "# -----------------------------\n",
    "trainer_uncased = WeightedTrainer(\n",
    "    model=model_uncased,\n",
    "    args=training_args,\n",
    "    train_dataset=train_dataset,\n",
    "    eval_dataset=val_dataset\n",
    ")\n",
    "\n",
    "print(\"Fine-tuning bert-base-cased on binary bunker reviews with class weighting...\")\n",
    "trainer_uncased.train()\n",
    "trainer_uncased.save_model(\"outputs_bunker_binary_cased/final_model\")\n"
   ]
  },
  {
   "cell_type": "code",
   "execution_count": 22,
   "metadata": {},
   "outputs": [
    {
     "name": "stdout",
     "output_type": "stream",
     "text": [
      "Original test set: 194 reviews\n",
      "Filtered test set (only positive and negative): 172 reviews\n"
     ]
    },
    {
     "data": {
      "text/html": [],
      "text/plain": [
       "<IPython.core.display.HTML object>"
      ]
     },
     "metadata": {},
     "output_type": "display_data"
    },
    {
     "name": "stdout",
     "output_type": "stream",
     "text": [
      "Predictions saved to ../data/processed/bunker_predictions_binary.csv\n",
      "Accuracy: 0.9767\n",
      "Confusion Matrix:\n",
      "[[155   1]\n",
      " [  3  13]]\n",
      "Classification Report:\n",
      "              precision    recall  f1-score   support\n",
      "\n",
      "    positive       0.98      0.99      0.99       156\n",
      "    negative       0.93      0.81      0.87        16\n",
      "\n",
      "    accuracy                           0.98       172\n",
      "   macro avg       0.95      0.90      0.93       172\n",
      "weighted avg       0.98      0.98      0.98       172\n",
      "\n"
     ]
    }
   ],
   "source": [
    "model_uncased = BertForSequenceClassification.from_pretrained(\"outputs_bunker_binary_cased/final_model\", num_labels=2)\n",
    "tokenizer_uncased = BertTokenizer.from_pretrained(\"bert-base-cased\")\n",
    "\n",
    "# Load the test dataset (this may contain all reviews including neutral)\n",
    "df_test = pd.read_pickle(\"../data/processed/bunker_reviews_test_set.pkl\")\n",
    "print(\"Original test set:\", len(df_test), \"reviews\")\n",
    "\n",
    "# Filter the test set to only include reviews with manual classifications \"positive\" or \"negative\"\n",
    "df_test_filtered = df_test[df_test[\"manual_classification\"].isin([\"positive\", \"negative\"])].copy()\n",
    "print(\"Filtered test set (only positive and negative):\", len(df_test_filtered), \"reviews\")\n",
    "\n",
    "# Map labels in the test set for evaluation (if manual_classification exists)\n",
    "df_test_filtered[\"binary_label\"] = df_test_filtered[\"manual_classification\"].map(label_mapping)\n",
    "\n",
    "# Prepare the texts and true labels\n",
    "test_texts = df_test_filtered[\"clean_text\"].tolist()\n",
    "true_labels = df_test_filtered[\"binary_label\"].tolist()\n",
    "\n",
    "# Define an inference dataset\n",
    "class InferenceDataset(torch.utils.data.Dataset):\n",
    "    def __init__(self, texts, tokenizer, max_length=512):\n",
    "        self.texts = texts if isinstance(texts, list) else texts.tolist()\n",
    "        self.tokenizer = tokenizer\n",
    "        self.max_length = max_length\n",
    "    \n",
    "    def __len__(self):\n",
    "        return len(self.texts)\n",
    "    \n",
    "    def __getitem__(self, idx):\n",
    "        text = self.texts[idx]\n",
    "        encoding = self.tokenizer(\n",
    "            text,\n",
    "            truncation=True,\n",
    "            padding=\"max_length\",\n",
    "            max_length=self.max_length,\n",
    "            return_tensors=\"pt\"\n",
    "        )\n",
    "        return {\n",
    "            \"input_ids\": encoding[\"input_ids\"].squeeze(),\n",
    "            \"attention_mask\": encoding[\"attention_mask\"].squeeze()\n",
    "        }\n",
    "\n",
    "inference_dataset = InferenceDataset(test_texts, tokenizer_uncased)\n",
    "\n",
    "# Set up evaluation TrainingArguments\n",
    "eval_training_args = TrainingArguments(\n",
    "    output_dir=\"outputs_bunker_binary_cased\",\n",
    "    per_device_eval_batch_size=8\n",
    ")\n",
    "\n",
    "# Initialize Trainer (we only need the model and the arguments for prediction)\n",
    "trainer = Trainer(\n",
    "    model=model_uncased,\n",
    "    args=eval_training_args\n",
    ")\n",
    "\n",
    "# Get predictions\n",
    "predictions_output = trainer.predict(inference_dataset)\n",
    "logits = predictions_output.predictions  # shape: (num_samples, 2)\n",
    "probs = F.softmax(torch.tensor(logits), dim=1).numpy()\n",
    "\n",
    "# Map binary predictions to string labels (0: negative, 1: positive)\n",
    "label_mapping_str = {0: \"negative\", 1: \"positive\"}\n",
    "final_preds = [label_mapping_str[p.argmax()] for p in probs]\n",
    "\n",
    "# Add predictions to the test DataFrame\n",
    "df_test_filtered[\"predicted_sentiment\"] = final_preds\n",
    "\n",
    "# Optionally reorder columns (adjust if necessary)\n",
    "df_test_filtered = df_test_filtered[[\"clean_text\", \"manual_classification\", \"predicted_sentiment\", \"tokens\"]]\n",
    "\n",
    "# Save predictions to CSV\n",
    "df_test_filtered.to_csv(\"../data/processed/bunker_predictions_binary.csv\", index=False)\n",
    "print(\"Predictions saved to ../data/processed/bunker_predictions_binary.csv\")\n",
    "\n",
    "# Evaluate performance (if gold labels are available)\n",
    "true_labels_str = [label_mapping_str[label] for label in true_labels]\n",
    "accuracy = accuracy_score(true_labels_str, final_preds)\n",
    "print(f\"Accuracy: {accuracy:.4f}\")\n",
    "\n",
    "cm = confusion_matrix(df_test_filtered[\"manual_classification\"], df_test_filtered[\"predicted_sentiment\"], labels=[\"positive\", \"negative\"])\n",
    "print(\"Confusion Matrix:\")\n",
    "print(cm)\n",
    "\n",
    "report = classification_report(df_test_filtered[\"manual_classification\"], df_test_filtered[\"predicted_sentiment\"], labels=[\"positive\", \"negative\"])\n",
    "print(\"Classification Report:\")\n",
    "print(report)\n"
   ]
  },
  {
   "cell_type": "code",
   "execution_count": null,
   "metadata": {},
   "outputs": [],
   "source": []
  }
 ],
 "metadata": {
  "kernelspec": {
   "display_name": "Python (myenv)",
   "language": "python",
   "name": "myenv"
  },
  "language_info": {
   "codemirror_mode": {
    "name": "ipython",
    "version": 3
   },
   "file_extension": ".py",
   "mimetype": "text/x-python",
   "name": "python",
   "nbconvert_exporter": "python",
   "pygments_lexer": "ipython3",
   "version": "3.10.13"
  }
 },
 "nbformat": 4,
 "nbformat_minor": 4
}
